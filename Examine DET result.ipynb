{
 "cells": [
  {
   "cell_type": "code",
   "execution_count": 1,
   "metadata": {},
   "outputs": [
    {
     "name": "stdout",
     "output_type": "stream",
     "text": [
      "import cPickle\n",
      "import cPickle\n",
      "import cPickle\n"
     ]
    }
   ],
   "source": [
    "from __future__ import absolute_import\n",
    "from __future__ import division\n",
    "from __future__ import print_function\n",
    "\n",
    "import _init_paths\n",
    "import os\n",
    "import sys\n",
    "import numpy as np\n",
    "import cv2\n",
    "import time\n",
    "import torch\n",
    "import PIL\n",
    "from matplotlib import pyplot as plt\n",
    "from torch.autograd import Variable\n",
    "import torch.nn as nn\n",
    "import torch.optim as optim\n",
    "import cPickle as pickle\n",
    "from roi_data_layer.roidb import combined_roidb\n",
    "from roi_data_layer.roibatchLoader import roibatchLoader\n",
    "from model.utils.config import cfg, cfg_from_file, cfg_from_list, get_output_dir\n",
    "from model.rpn.bbox_transform import clip_boxes\n",
    "from model.nms.nms_wrapper import nms\n",
    "from model.rpn.bbox_transform import bbox_transform_inv\n",
    "from model.utils.net_utils import save_net, load_net, vis_detections\n",
    "import xml.dom.minidom as minidom\n",
    "from tqdm import tqdm\n",
    "import subprocess"
   ]
  },
  {
   "cell_type": "code",
   "execution_count": 2,
   "metadata": {},
   "outputs": [],
   "source": [
    "#path_to_bbox_pickle = 'output/res101/imagenetDETVID_val/rfcn_light_head/detections.pkl'\n",
    "imdbval_name = 'imagenetDETVID_val'"
   ]
  },
  {
   "cell_type": "code",
   "execution_count": 3,
   "metadata": {},
   "outputs": [
    {
     "name": "stdout",
     "output_type": "stream",
     "text": [
      "Total number of video images are:176126\n",
      "Loaded dataset `imagenetDETVID_val` for training\n",
      "Set proposal method: gt\n",
      "Preparing training data...\n",
      "/home/lvye/lvye/VODProj/faster-rcnn.pytorch/data/cache/imagenetDETVID_val_gt_roidb.pkl\n"
     ]
    },
    {
     "ename": "KeyboardInterrupt",
     "evalue": "",
     "output_type": "error",
     "traceback": [
      "\u001b[0;31m---------------------------------------------------------------------------\u001b[0m",
      "\u001b[0;31mKeyboardInterrupt\u001b[0m                         Traceback (most recent call last)",
      "\u001b[0;32m<ipython-input-3-d08a7eaa7e44>\u001b[0m in \u001b[0;36m<module>\u001b[0;34m()\u001b[0m\n\u001b[1;32m      1\u001b[0m \u001b[0mcfg\u001b[0m\u001b[0;34m.\u001b[0m\u001b[0mTRAIN\u001b[0m\u001b[0;34m.\u001b[0m\u001b[0mUSE_FLIPPED\u001b[0m \u001b[0;34m=\u001b[0m \u001b[0mFalse\u001b[0m\u001b[0;34m\u001b[0m\u001b[0m\n\u001b[0;32m----> 2\u001b[0;31m \u001b[0mimdb\u001b[0m\u001b[0;34m,\u001b[0m \u001b[0mroidb\u001b[0m\u001b[0;34m,\u001b[0m \u001b[0mratio_list\u001b[0m\u001b[0;34m,\u001b[0m \u001b[0mratio_index\u001b[0m \u001b[0;34m=\u001b[0m \u001b[0mcombined_roidb\u001b[0m\u001b[0;34m(\u001b[0m\u001b[0mimdbval_name\u001b[0m\u001b[0;34m,\u001b[0m \u001b[0mFalse\u001b[0m\u001b[0;34m)\u001b[0m\u001b[0;34m\u001b[0m\u001b[0m\n\u001b[0m",
      "\u001b[0;32m/home/lvye/lvye/VODProj/faster-rcnn.pytorch/lib/roi_data_layer/roidb.pyc\u001b[0m in \u001b[0;36mcombined_roidb\u001b[0;34m(imdb_names, training)\u001b[0m\n\u001b[1;32m    127\u001b[0m     \u001b[0;32mreturn\u001b[0m \u001b[0mroidb\u001b[0m\u001b[0;34m\u001b[0m\u001b[0m\n\u001b[1;32m    128\u001b[0m \u001b[0;34m\u001b[0m\u001b[0m\n\u001b[0;32m--> 129\u001b[0;31m   \u001b[0mroidbs\u001b[0m \u001b[0;34m=\u001b[0m \u001b[0;34m[\u001b[0m\u001b[0mget_roidb\u001b[0m\u001b[0;34m(\u001b[0m\u001b[0ms\u001b[0m\u001b[0;34m)\u001b[0m \u001b[0;32mfor\u001b[0m \u001b[0ms\u001b[0m \u001b[0;32min\u001b[0m \u001b[0mimdb_names\u001b[0m\u001b[0;34m.\u001b[0m\u001b[0msplit\u001b[0m\u001b[0;34m(\u001b[0m\u001b[0;34m'+'\u001b[0m\u001b[0;34m)\u001b[0m\u001b[0;34m]\u001b[0m\u001b[0;34m\u001b[0m\u001b[0m\n\u001b[0m\u001b[1;32m    130\u001b[0m   \u001b[0mroidb\u001b[0m \u001b[0;34m=\u001b[0m \u001b[0mroidbs\u001b[0m\u001b[0;34m[\u001b[0m\u001b[0;36m0\u001b[0m\u001b[0;34m]\u001b[0m\u001b[0;34m\u001b[0m\u001b[0m\n\u001b[1;32m    131\u001b[0m \u001b[0;34m\u001b[0m\u001b[0m\n",
      "\u001b[0;32m/home/lvye/lvye/VODProj/faster-rcnn.pytorch/lib/roi_data_layer/roidb.pyc\u001b[0m in \u001b[0;36mget_roidb\u001b[0;34m(imdb_name)\u001b[0m\n\u001b[1;32m    124\u001b[0m     \u001b[0mimdb\u001b[0m\u001b[0;34m.\u001b[0m\u001b[0mset_proposal_method\u001b[0m\u001b[0;34m(\u001b[0m\u001b[0mcfg\u001b[0m\u001b[0;34m.\u001b[0m\u001b[0mTRAIN\u001b[0m\u001b[0;34m.\u001b[0m\u001b[0mPROPOSAL_METHOD\u001b[0m\u001b[0;34m)\u001b[0m\u001b[0;34m\u001b[0m\u001b[0m\n\u001b[1;32m    125\u001b[0m     \u001b[0;32mprint\u001b[0m\u001b[0;34m(\u001b[0m\u001b[0;34m'Set proposal method: {:s}'\u001b[0m\u001b[0;34m.\u001b[0m\u001b[0mformat\u001b[0m\u001b[0;34m(\u001b[0m\u001b[0mcfg\u001b[0m\u001b[0;34m.\u001b[0m\u001b[0mTRAIN\u001b[0m\u001b[0;34m.\u001b[0m\u001b[0mPROPOSAL_METHOD\u001b[0m\u001b[0;34m)\u001b[0m\u001b[0;34m)\u001b[0m\u001b[0;34m\u001b[0m\u001b[0m\n\u001b[0;32m--> 126\u001b[0;31m     \u001b[0mroidb\u001b[0m \u001b[0;34m=\u001b[0m \u001b[0mget_training_roidb\u001b[0m\u001b[0;34m(\u001b[0m\u001b[0mimdb\u001b[0m\u001b[0;34m)\u001b[0m\u001b[0;34m\u001b[0m\u001b[0m\n\u001b[0m\u001b[1;32m    127\u001b[0m     \u001b[0;32mreturn\u001b[0m \u001b[0mroidb\u001b[0m\u001b[0;34m\u001b[0m\u001b[0m\n\u001b[1;32m    128\u001b[0m \u001b[0;34m\u001b[0m\u001b[0m\n",
      "\u001b[0;32m/home/lvye/lvye/VODProj/faster-rcnn.pytorch/lib/roi_data_layer/roidb.pyc\u001b[0m in \u001b[0;36mget_training_roidb\u001b[0;34m(imdb)\u001b[0m\n\u001b[1;32m    113\u001b[0m     \u001b[0;32mprint\u001b[0m\u001b[0;34m(\u001b[0m\u001b[0;34m'Preparing training data...'\u001b[0m\u001b[0;34m)\u001b[0m\u001b[0;34m\u001b[0m\u001b[0m\n\u001b[1;32m    114\u001b[0m \u001b[0;34m\u001b[0m\u001b[0m\n\u001b[0;32m--> 115\u001b[0;31m     \u001b[0mprepare_roidb\u001b[0m\u001b[0;34m(\u001b[0m\u001b[0mimdb\u001b[0m\u001b[0;34m)\u001b[0m\u001b[0;34m\u001b[0m\u001b[0m\n\u001b[0m\u001b[1;32m    116\u001b[0m     \u001b[0;31m#ratio_index = rank_roidb_ratio(imdb)\u001b[0m\u001b[0;34m\u001b[0m\u001b[0;34m\u001b[0m\u001b[0m\n\u001b[1;32m    117\u001b[0m     \u001b[0;32mprint\u001b[0m\u001b[0;34m(\u001b[0m\u001b[0;34m'done'\u001b[0m\u001b[0;34m)\u001b[0m\u001b[0;34m\u001b[0m\u001b[0m\n",
      "\u001b[0;32m/home/lvye/lvye/VODProj/faster-rcnn.pytorch/lib/roi_data_layer/roidb.pyc\u001b[0m in \u001b[0;36mprepare_roidb\u001b[0;34m(imdb)\u001b[0m\n\u001b[1;32m     22\u001b[0m   \"\"\"\n\u001b[1;32m     23\u001b[0m \u001b[0;34m\u001b[0m\u001b[0m\n\u001b[0;32m---> 24\u001b[0;31m   \u001b[0mroidb\u001b[0m \u001b[0;34m=\u001b[0m \u001b[0mimdb\u001b[0m\u001b[0;34m.\u001b[0m\u001b[0mroidb\u001b[0m\u001b[0;34m\u001b[0m\u001b[0m\n\u001b[0m\u001b[1;32m     25\u001b[0m   \u001b[0;32mif\u001b[0m \u001b[0;32mnot\u001b[0m \u001b[0;34m(\u001b[0m\u001b[0mimdb\u001b[0m\u001b[0;34m.\u001b[0m\u001b[0mname\u001b[0m\u001b[0;34m.\u001b[0m\u001b[0mstartswith\u001b[0m\u001b[0;34m(\u001b[0m\u001b[0;34m'coco'\u001b[0m\u001b[0;34m)\u001b[0m\u001b[0;34m)\u001b[0m\u001b[0;34m:\u001b[0m\u001b[0;34m\u001b[0m\u001b[0m\n\u001b[1;32m     26\u001b[0m     \u001b[0mcache_file\u001b[0m \u001b[0;34m=\u001b[0m \u001b[0mos\u001b[0m\u001b[0;34m.\u001b[0m\u001b[0mpath\u001b[0m\u001b[0;34m.\u001b[0m\u001b[0mjoin\u001b[0m\u001b[0;34m(\u001b[0m\u001b[0mimdb\u001b[0m\u001b[0;34m.\u001b[0m\u001b[0mcache_path\u001b[0m\u001b[0;34m,\u001b[0m \u001b[0mimdb\u001b[0m\u001b[0;34m.\u001b[0m\u001b[0mname\u001b[0m \u001b[0;34m+\u001b[0m \u001b[0;34m'_sizes.pkl'\u001b[0m\u001b[0;34m)\u001b[0m\u001b[0;34m\u001b[0m\u001b[0m\n",
      "\u001b[0;32m/home/lvye/lvye/VODProj/faster-rcnn.pytorch/lib/datasets/imdb.pyc\u001b[0m in \u001b[0;36mroidb\u001b[0;34m(self)\u001b[0m\n\u001b[1;32m     74\u001b[0m     \u001b[0;32mif\u001b[0m \u001b[0mself\u001b[0m\u001b[0;34m.\u001b[0m\u001b[0m_roidb\u001b[0m \u001b[0;32mis\u001b[0m \u001b[0;32mnot\u001b[0m \u001b[0mNone\u001b[0m\u001b[0;34m:\u001b[0m\u001b[0;34m\u001b[0m\u001b[0m\n\u001b[1;32m     75\u001b[0m       \u001b[0;32mreturn\u001b[0m \u001b[0mself\u001b[0m\u001b[0;34m.\u001b[0m\u001b[0m_roidb\u001b[0m\u001b[0;34m\u001b[0m\u001b[0m\n\u001b[0;32m---> 76\u001b[0;31m     \u001b[0mself\u001b[0m\u001b[0;34m.\u001b[0m\u001b[0m_roidb\u001b[0m \u001b[0;34m=\u001b[0m \u001b[0mself\u001b[0m\u001b[0;34m.\u001b[0m\u001b[0mroidb_handler\u001b[0m\u001b[0;34m(\u001b[0m\u001b[0;34m)\u001b[0m\u001b[0;34m\u001b[0m\u001b[0m\n\u001b[0m\u001b[1;32m     77\u001b[0m     \u001b[0;32mreturn\u001b[0m \u001b[0mself\u001b[0m\u001b[0;34m.\u001b[0m\u001b[0m_roidb\u001b[0m\u001b[0;34m\u001b[0m\u001b[0m\n\u001b[1;32m     78\u001b[0m \u001b[0;34m\u001b[0m\u001b[0m\n",
      "\u001b[0;32m/home/lvye/lvye/VODProj/faster-rcnn.pytorch/lib/datasets/imagenetDETVID.pyc\u001b[0m in \u001b[0;36mgt_roidb\u001b[0;34m(self)\u001b[0m\n\u001b[1;32m    230\u001b[0m         \u001b[0;32mif\u001b[0m \u001b[0mos\u001b[0m\u001b[0;34m.\u001b[0m\u001b[0mpath\u001b[0m\u001b[0;34m.\u001b[0m\u001b[0mexists\u001b[0m\u001b[0;34m(\u001b[0m\u001b[0mcache_file\u001b[0m\u001b[0;34m)\u001b[0m\u001b[0;34m:\u001b[0m\u001b[0;34m\u001b[0m\u001b[0m\n\u001b[1;32m    231\u001b[0m             \u001b[0;32mwith\u001b[0m \u001b[0mopen\u001b[0m\u001b[0;34m(\u001b[0m\u001b[0mcache_file\u001b[0m\u001b[0;34m,\u001b[0m \u001b[0;34m'rb'\u001b[0m\u001b[0;34m)\u001b[0m \u001b[0;32mas\u001b[0m \u001b[0mfid\u001b[0m\u001b[0;34m:\u001b[0m\u001b[0;34m\u001b[0m\u001b[0m\n\u001b[0;32m--> 232\u001b[0;31m                 \u001b[0mroidb\u001b[0m \u001b[0;34m=\u001b[0m \u001b[0mpickle\u001b[0m\u001b[0;34m.\u001b[0m\u001b[0mload\u001b[0m\u001b[0;34m(\u001b[0m\u001b[0mfid\u001b[0m\u001b[0;34m)\u001b[0m\u001b[0;34m\u001b[0m\u001b[0m\n\u001b[0m\u001b[1;32m    233\u001b[0m             \u001b[0;32mprint\u001b[0m\u001b[0;34m(\u001b[0m\u001b[0;34m'{} gt roidb loaded from {}'\u001b[0m\u001b[0;34m.\u001b[0m\u001b[0mformat\u001b[0m\u001b[0;34m(\u001b[0m\u001b[0mself\u001b[0m\u001b[0;34m.\u001b[0m\u001b[0mname\u001b[0m\u001b[0;34m,\u001b[0m \u001b[0mcache_file\u001b[0m\u001b[0;34m)\u001b[0m\u001b[0;34m)\u001b[0m\u001b[0;34m\u001b[0m\u001b[0m\n\u001b[1;32m    234\u001b[0m             \u001b[0;32mreturn\u001b[0m \u001b[0mroidb\u001b[0m\u001b[0;34m\u001b[0m\u001b[0m\n",
      "\u001b[0;32m/home/lvye/anaconda3/envs/py27/lib/python2.7/site-packages/scipy/sparse/base.pyc\u001b[0m in \u001b[0;36m__getattr__\u001b[0;34m(self, attr)\u001b[0m\n\u001b[1;32m    687\u001b[0m             \u001b[0;32mreturn\u001b[0m \u001b[0mself\u001b[0m\u001b[0;34m.\u001b[0m\u001b[0mgetnnz\u001b[0m\u001b[0;34m(\u001b[0m\u001b[0;34m)\u001b[0m\u001b[0;34m\u001b[0m\u001b[0m\n\u001b[1;32m    688\u001b[0m         \u001b[0;32melse\u001b[0m\u001b[0;34m:\u001b[0m\u001b[0;34m\u001b[0m\u001b[0m\n\u001b[0;32m--> 689\u001b[0;31m             \u001b[0;32mraise\u001b[0m \u001b[0mAttributeError\u001b[0m\u001b[0;34m(\u001b[0m\u001b[0mattr\u001b[0m \u001b[0;34m+\u001b[0m \u001b[0;34m\" not found\"\u001b[0m\u001b[0;34m)\u001b[0m\u001b[0;34m\u001b[0m\u001b[0m\n\u001b[0m\u001b[1;32m    690\u001b[0m \u001b[0;34m\u001b[0m\u001b[0m\n\u001b[1;32m    691\u001b[0m     \u001b[0;32mdef\u001b[0m \u001b[0mtranspose\u001b[0m\u001b[0;34m(\u001b[0m\u001b[0mself\u001b[0m\u001b[0;34m,\u001b[0m \u001b[0maxes\u001b[0m\u001b[0;34m=\u001b[0m\u001b[0mNone\u001b[0m\u001b[0;34m,\u001b[0m \u001b[0mcopy\u001b[0m\u001b[0;34m=\u001b[0m\u001b[0mFalse\u001b[0m\u001b[0;34m)\u001b[0m\u001b[0;34m:\u001b[0m\u001b[0;34m\u001b[0m\u001b[0m\n",
      "\u001b[0;31mKeyboardInterrupt\u001b[0m: "
     ]
    }
   ],
   "source": [
    "cfg.TRAIN.USE_FLIPPED = False\n",
    "imdb, roidb, ratio_list, ratio_index = combined_roidb(imdbval_name, False)"
   ]
  },
  {
   "cell_type": "code",
   "execution_count": null,
   "metadata": {},
   "outputs": [],
   "source": [
    "num_images = len(imdb.image_index)\n",
    "with open(path_to_bbox_pickle) as f:\n",
    "    all_boxes = pickle.load(f)\n",
    "print(len(all_boxes[0]))\n",
    "print(num_images)\n",
    "assert len(all_boxes[0])==num_images, 'Number of images not equal.'"
   ]
  },
  {
   "cell_type": "markdown",
   "metadata": {},
   "source": [
    "#### This notebook is used to visualize bboxes on images."
   ]
  },
  {
   "cell_type": "markdown",
   "metadata": {},
   "source": [
    "### Show detection results and GT"
   ]
  },
  {
   "cell_type": "code",
   "execution_count": null,
   "metadata": {},
   "outputs": [],
   "source": [
    "import scipy.io as sio\n",
    "devkit_path = 'data/imagenet/ILSVRC/devkit'\n",
    "####VID object info####\n",
    "synsets_video = sio.loadmat(os.path.join(devkit_path,'data','meta_vid.mat'))\n",
    "_wnid = (0,)\n",
    "_classes = ('__background__',)\n",
    "for i in xrange(30):\n",
    "    _classes = _classes + (synsets_video['synsets'][0][i][2][0],)\n",
    "    _wnid = _wnid + (synsets_video['synsets'][0][i][1][0],)\n",
    "\n",
    "_wnid_to_ind = dict(zip(_wnid, xrange(31)))\n",
    "_class_to_ind = dict(zip(_classes, xrange(31)))\n",
    "#######################\n",
    "def read_annotation(dataPath):\n",
    "    filename = dataPath.replace('Data','Annotations').replace('JPEG','xml')\n",
    "    assert os.path.exists(filename),'%s'%(filename)\n",
    "    # print 'Loading: {}'.format(filename)\n",
    "    def get_data_from_tag(node, tag):\n",
    "        return node.getElementsByTagName(tag)[0].childNodes[0].data\n",
    "\n",
    "    with open(filename) as f:\n",
    "        data = minidom.parseString(f.read())\n",
    "\n",
    "    objs = data.getElementsByTagName('object')\n",
    "    num_objs = len(objs)\n",
    "    \n",
    "    boxes = np.zeros((num_objs, 4), dtype=np.int32)\n",
    "    gt_classes = np.zeros(num_objs,dtype=np.int32)\n",
    "    # Load object bounding boxes into a data frame.\n",
    "    for ix, obj in enumerate(objs):\n",
    "        x1 = float(get_data_from_tag(obj, 'xmin'))\n",
    "        y1 = float(get_data_from_tag(obj, 'ymin'))\n",
    "        x2 = float(get_data_from_tag(obj, 'xmax'))\n",
    "        y2 = float(get_data_from_tag(obj, 'ymax'))\n",
    "        cls = _wnid_to_ind[\n",
    "                str(get_data_from_tag(obj, \"name\")).lower().strip()]\n",
    "        boxes[ix, :] = [x1, y1, x2, y2]\n",
    "        gt_classes[ix] = cls\n",
    "    return boxes, gt_classes"
   ]
  },
  {
   "cell_type": "code",
   "execution_count": null,
   "metadata": {},
   "outputs": [],
   "source": [
    "def showBoxResult(img_id, all_boxes, imdb, show_class=True, threshold=0.3, dpi = 200):\n",
    "    imIdx = imdb.image_index[img_id]+'.JPEG'\n",
    "    assert os.path.exists(imIdx), imIdx+' does not exist.'\n",
    "    #print(imIdx)\n",
    "    gt_boxes, gt_classes = read_annotation(imIdx)\n",
    "    im2show = np.array(PIL.Image.open(imIdx))\n",
    "    fig = plt.figure(frameon=False)\n",
    "    fig.set_size_inches(im2show.shape[1] / dpi, im2show.shape[0] / dpi)\n",
    "    ax = plt.Axes(fig, [0., 0., 1., 1.])\n",
    "    ax.axis('off')\n",
    "    fig.add_axes(ax)\n",
    "    ax.imshow(im2show)\n",
    "    \n",
    "    #draw gt first\n",
    "    for j in range(len(gt_classes)):\n",
    "        ax.add_patch(\n",
    "        plt.Rectangle((gt_boxes[j][0], gt_boxes[j][1]),\n",
    "                      gt_boxes[j][2] - gt_boxes[j][0],\n",
    "                      gt_boxes[j][3] - gt_boxes[j][1],\n",
    "                      fill=False, edgecolor='g',\n",
    "                      linewidth=3.0, alpha=0.8))\n",
    "        if show_class:\n",
    "            ax.text(gt_boxes[j][0], gt_boxes[j][1] - 2,\n",
    "            '%s %f'%(imdb.classes[gt_classes[j]], 1.0),\n",
    "            fontsize=10,\n",
    "            #family='serif',\n",
    "            bbox=dict(facecolor='g', alpha=0.4, pad=0, edgecolor='none'),\n",
    "                color='white')\n",
    "    \n",
    "    #draw dets\n",
    "    for j in range(len(imdb.classes)):\n",
    "        if isinstance(all_boxes[j][img_id], np.ndarray):\n",
    "            for bbox in all_boxes[j][img_id]:\n",
    "                if bbox[-1]>threshold:\n",
    "                    ax.add_patch(\n",
    "                    plt.Rectangle((bbox[0], bbox[1]),\n",
    "                              bbox[2] - bbox[0],\n",
    "                              bbox[3] - bbox[1],\n",
    "                              fill=False, edgecolor='y',\n",
    "                              linewidth=3.0, alpha=0.4))\n",
    "                    if show_class:\n",
    "                        ax.text(bbox[0], bbox[1] - 2,\n",
    "                        '%s %f'%(imdb.classes[j], bbox[-1]),\n",
    "                        fontsize=10,\n",
    "                        #family='serif',\n",
    "                        bbox=dict(\n",
    "                            facecolor='y', alpha=0.4, pad=0, edgecolor='none'),\n",
    "                            color='white')\n",
    "            #im2show = vis_detections(im2show, imdb.classes[j], all_boxes[j][img_id], 0.3)\n",
    "    #plt.show()\n",
    "    return fig"
   ]
  },
  {
   "cell_type": "code",
   "execution_count": 163,
   "metadata": {},
   "outputs": [
    {
     "data": {
      "image/png": "[encoded data removed]",
      "text/plain": [
       "<Figure size 345.6x259.2 with 1 Axes>"
      ]
     },
     "metadata": {
      "needs_background": "light"
     },
     "output_type": "display_data"
    }
   ],
   "source": [
    "###Eg. output\n",
    "_ = showBoxResult(4283,all_boxes,imdb)"
   ]
  },
  {
   "cell_type": "markdown",
   "metadata": {},
   "source": [
    "### Save the figure to pdf"
   ]
  },
  {
   "cell_type": "code",
   "execution_count": 143,
   "metadata": {},
   "outputs": [],
   "source": [
    "def save_det_fig(index_range,all_boxes,imdb,output_dir,ext,dpi,merge_pdfs = False):\n",
    "    assert os.path.exists(output_dir), 'Error: output_dir does not exists.'\n",
    "    if index_range is None:\n",
    "        index_range = range(len(all_boxes[0]))\n",
    "    for i in index_range:\n",
    "        sys.stdout.write('%d/%d \\r'%(i+1,len(index_range)))\n",
    "        sys.stdout.flush()\n",
    "        fig = showBoxResult(i,all_boxes,imdb,dpi=dpi)\n",
    "        output_name = '%09d'%(i) + '.' + ext\n",
    "        fig.savefig(os.path.join(output_dir, '{}'.format(output_name)), dpi=dpi)\n",
    "        plt.close('all')\n",
    "    if merge_pdfs:\n",
    "        merge_out_path = '{}/VID_val_results.pdf'.format('./output/vis')\n",
    "        if os.path.exists(merge_out_path):\n",
    "            os.remove(merge_out_path)\n",
    "        command = \"pdfunite {}/*.pdf {}\".format(output_dir,\n",
    "                                                merge_out_path)\n",
    "        subprocess.call(command, shell=True)"
   ]
  },
  {
   "cell_type": "code",
   "execution_count": 166,
   "metadata": {},
   "outputs": [],
   "source": [
    "def merge_pdfs(output_dir='./output/vis/VID_val'):\n",
    "    merge_out_path = '{}/VID_val_results.pdf'.format('./output/vis')\n",
    "    if os.path.exists(merge_out_path):\n",
    "        os.remove(merge_out_path)\n",
    "    command = \"pdfunite {}/*.pdf {}\".format(output_dir,\n",
    "                                            merge_out_path)\n",
    "    subprocess.call(command, shell=True)"
   ]
  },
  {
   "cell_type": "code",
   "execution_count": null,
   "metadata": {},
   "outputs": [],
   "source": [
    "save_det_fig(range(0,1000),all_boxes,imdb,output_dir='./output/vis/VID_val',ext='pdf',dpi=100)"
   ]
  },
  {
   "cell_type": "code",
   "execution_count": 154,
   "metadata": {},
   "outputs": [],
   "source": [
    "merge_pdfs()"
   ]
  },
  {
   "cell_type": "markdown",
   "metadata": {},
   "source": [
    "### Transform pickle boxes into Text format for evaluation"
   ]
  },
  {
   "cell_type": "code",
   "execution_count": 4,
   "metadata": {},
   "outputs": [],
   "source": [
    "def Pickle2Text(picklePath, txtPath, imdb, threshold = 0.8):\n",
    "    with open(picklePath) as f:\n",
    "        all_boxes = pickle.load(f)\n",
    "        num_images = len(imdb.image_index)\n",
    "        print('num_images:',num_images)\n",
    "        assert len(all_boxes[0])==num_images, 'Number of images not equal.'\n",
    "    with open(txtPath,'w') as ft:\n",
    "        for i in tqdm(range(len(imdb.image_index))):\n",
    "            for j in range(len(imdb.classes)):\n",
    "                if isinstance(all_boxes[j][i], np.ndarray):\n",
    "                    for bbox in all_boxes[j][i]:\n",
    "                        if bbox[-1]>threshold:\n",
    "                            item_temp = '%d %d %f %f %f %f %f\\n'%(\n",
    "                                i+1,j,bbox[-1],bbox[0],bbox[1],bbox[2],bbox[3])\n",
    "                            ft.write(item_temp)\n",
    "                            #sys.stdout.write(item_temp)\n",
    "                            #sys.stdout.flush()"
   ]
  },
  {
   "cell_type": "code",
   "execution_count": 5,
   "metadata": {},
   "outputs": [
    {
     "name": "stderr",
     "output_type": "stream",
     "text": [
      "  0%|          | 409/176126 [00:00<00:43, 4084.24it/s]"
     ]
    },
    {
     "name": "stdout",
     "output_type": "stream",
     "text": [
      "num_images: 176126\n"
     ]
    },
    {
     "name": "stderr",
     "output_type": "stream",
     "text": [
      "100%|██████████| 176126/176126 [00:53<00:00, 3280.18it/s]\n"
     ]
    }
   ],
   "source": [
    "from os import path as osp\n",
    "model_name = 'rfcn_light_head'\n",
    "picklePath = osp.join('output/res101/imagenetDETVID_val',model_name,'detections.pkl')\n",
    "txtPath = osp.join('output/res101/imagenetDETVID_val',model_name,'detections.txt')\n",
    "Pickle2Text(picklePath, txtPath, imdb, threshold=0.01)"
   ]
  },
  {
   "cell_type": "code",
   "execution_count": 6,
   "metadata": {},
   "outputs": [
    {
     "name": "stderr",
     "output_type": "stream",
     "text": [
      "  0%|          | 349/176126 [00:00<00:50, 3484.11it/s]"
     ]
    },
    {
     "name": "stdout",
     "output_type": "stream",
     "text": [
      "num_images: 176126\n"
     ]
    },
    {
     "name": "stderr",
     "output_type": "stream",
     "text": [
      "100%|██████████| 176126/176126 [00:56<00:00, 3109.08it/s]\n"
     ]
    }
   ],
   "source": [
    "model_name = 'rfcn_light_head_OHEM'\n",
    "picklePath = osp.join('output/res101/imagenetDETVID_val',model_name,'detections.pkl')\n",
    "txtPath = osp.join('output/res101/imagenetDETVID_val',model_name,'detections.txt')\n",
    "Pickle2Text(picklePath, txtPath, imdb, threshold=0.01)"
   ]
  },
  {
   "cell_type": "markdown",
   "metadata": {},
   "source": [
    "#### We can test how threshold of the score influence the final score."
   ]
  },
  {
   "cell_type": "code",
   "execution_count": 47,
   "metadata": {},
   "outputs": [],
   "source": [
    "def Boxes2Text(all_boxes, txtPath, imdb, threshold = 0.0):\n",
    "    num_images = len(imdb.image_index)\n",
    "    print('num_images:',num_images)\n",
    "    assert len(all_boxes[0])==num_images, 'Number of images not equal.'\n",
    "    with open(txtPath,'w') as ft:\n",
    "        for i in tqdm(range(len(imdb.image_index))):\n",
    "            for j in range(len(imdb.classes)):\n",
    "                if isinstance(all_boxes[j][i], np.ndarray):\n",
    "                    for bbox in all_boxes[j][i]:\n",
    "                        if bbox[-1]>threshold:\n",
    "                            item_temp = '%d %d %f %f %f %f %f\\n'%(\n",
    "                                i+1,j,bbox[-1],bbox[0],bbox[1],bbox[2],bbox[3])\n",
    "                            ft.write(item_temp)\n",
    "                            #sys.stdout.write(item_temp)\n",
    "                            #sys.stdout.flush()"
   ]
  },
  {
   "cell_type": "code",
   "execution_count": 7,
   "metadata": {},
   "outputs": [],
   "source": [
    "model_name = 'rfcn_light_head'\n",
    "picklePath = osp.join('output/res101/imagenetDETVID_val',model_name,'detections.pkl')\n",
    "with open(picklePath) as f:\n",
    "    all_boxes = pickle.load(f)"
   ]
  },
  {
   "cell_type": "code",
   "execution_count": 171,
   "metadata": {},
   "outputs": [
    {
     "name": "stderr",
     "output_type": "stream",
     "text": [
      "  0%|          | 460/176126 [00:00<00:38, 4594.67it/s]"
     ]
    },
    {
     "name": "stdout",
     "output_type": "stream",
     "text": [
      "num_images: 176126\n"
     ]
    },
    {
     "name": "stderr",
     "output_type": "stream",
     "text": [
      "100%|██████████| 176126/176126 [00:44<00:00, 3916.95it/s]\n"
     ]
    }
   ],
   "source": [
    "threshold = 0.9\n",
    "picklePath = 'output/res101/imagenetDETVID_val/faster_rcnn_10/detections.pkl'\n",
    "txtPath = 'output/res101/imagenetDETVID_val/faster_rcnn_10/detections_%s.txt'%(str(threshold))\n",
    "Boxes2Text(all_boxes, txtPath, imdb, threshold=threshold)"
   ]
  },
  {
   "cell_type": "code",
   "execution_count": 172,
   "metadata": {},
   "outputs": [
    {
     "name": "stderr",
     "output_type": "stream",
     "text": [
      "  0%|          | 342/176126 [00:00<00:51, 3411.27it/s]"
     ]
    },
    {
     "name": "stdout",
     "output_type": "stream",
     "text": [
      "num_images: 176126\n"
     ]
    },
    {
     "name": "stderr",
     "output_type": "stream",
     "text": [
      "100%|██████████| 176126/176126 [00:47<00:00, 3719.18it/s]\n"
     ]
    }
   ],
   "source": [
    "threshold = 0.8\n",
    "picklePath = 'output/res101/imagenetDETVID_val/faster_rcnn_10/detections.pkl'\n",
    "txtPath = 'output/res101/imagenetDETVID_val/faster_rcnn_10/detections_%s.txt'%(str(threshold))\n",
    "Boxes2Text(all_boxes, txtPath, imdb, threshold=threshold)"
   ]
  },
  {
   "cell_type": "code",
   "execution_count": 173,
   "metadata": {},
   "outputs": [
    {
     "name": "stderr",
     "output_type": "stream",
     "text": [
      "  0%|          | 388/176126 [00:00<00:45, 3878.15it/s]"
     ]
    },
    {
     "name": "stdout",
     "output_type": "stream",
     "text": [
      "num_images: 176126\n"
     ]
    },
    {
     "name": "stderr",
     "output_type": "stream",
     "text": [
      "100%|██████████| 176126/176126 [00:45<00:00, 3890.53it/s]\n"
     ]
    }
   ],
   "source": [
    "threshold = 0.7\n",
    "picklePath = 'output/res101/imagenetDETVID_val/faster_rcnn_10/detections.pkl'\n",
    "txtPath = 'output/res101/imagenetDETVID_val/faster_rcnn_10/detections_%s.txt'%(str(threshold))\n",
    "Boxes2Text(all_boxes, txtPath, imdb, threshold=threshold)"
   ]
  },
  {
   "cell_type": "code",
   "execution_count": 174,
   "metadata": {},
   "outputs": [
    {
     "name": "stderr",
     "output_type": "stream",
     "text": [
      "  0%|          | 283/176126 [00:00<01:02, 2825.11it/s]"
     ]
    },
    {
     "name": "stdout",
     "output_type": "stream",
     "text": [
      "num_images: 176126\n"
     ]
    },
    {
     "name": "stderr",
     "output_type": "stream",
     "text": [
      "100%|██████████| 176126/176126 [00:44<00:00, 3944.05it/s]\n"
     ]
    }
   ],
   "source": [
    "threshold = 0.6\n",
    "picklePath = 'output/res101/imagenetDETVID_val/faster_rcnn_10/detections.pkl'\n",
    "txtPath = 'output/res101/imagenetDETVID_val/faster_rcnn_10/detections_%s.txt'%(str(threshold))\n",
    "Boxes2Text(all_boxes, txtPath, imdb, threshold=threshold)"
   ]
  },
  {
   "cell_type": "code",
   "execution_count": 175,
   "metadata": {},
   "outputs": [
    {
     "name": "stderr",
     "output_type": "stream",
     "text": [
      "  0%|          | 236/176126 [00:00<01:14, 2358.91it/s]"
     ]
    },
    {
     "name": "stdout",
     "output_type": "stream",
     "text": [
      "num_images: 176126\n"
     ]
    },
    {
     "name": "stderr",
     "output_type": "stream",
     "text": [
      "100%|██████████| 176126/176126 [00:47<00:00, 3744.61it/s]\n"
     ]
    }
   ],
   "source": [
    "threshold = 0.5\n",
    "picklePath = 'output/res101/imagenetDETVID_val/faster_rcnn_10/detections.pkl'\n",
    "txtPath = 'output/res101/imagenetDETVID_val/faster_rcnn_10/detections_%s.txt'%(str(threshold))\n",
    "Boxes2Text(all_boxes, txtPath, imdb, threshold=threshold)"
   ]
  },
  {
   "cell_type": "code",
   "execution_count": 176,
   "metadata": {},
   "outputs": [
    {
     "name": "stderr",
     "output_type": "stream",
     "text": [
      "  0%|          | 225/176126 [00:00<01:18, 2236.52it/s]"
     ]
    },
    {
     "name": "stdout",
     "output_type": "stream",
     "text": [
      "num_images: 176126\n"
     ]
    },
    {
     "name": "stderr",
     "output_type": "stream",
     "text": [
      "100%|██████████| 176126/176126 [00:47<00:00, 3729.85it/s]\n"
     ]
    }
   ],
   "source": [
    "threshold = 0.4\n",
    "picklePath = 'output/res101/imagenetDETVID_val/faster_rcnn_10/detections.pkl'\n",
    "txtPath = 'output/res101/imagenetDETVID_val/faster_rcnn_10/detections_%s.txt'%(str(threshold))\n",
    "Boxes2Text(all_boxes, txtPath, imdb, threshold=threshold)"
   ]
  },
  {
   "cell_type": "code",
   "execution_count": 177,
   "metadata": {},
   "outputs": [
    {
     "name": "stderr",
     "output_type": "stream",
     "text": [
      "  0%|          | 396/176126 [00:00<00:44, 3953.56it/s]"
     ]
    },
    {
     "name": "stdout",
     "output_type": "stream",
     "text": [
      "num_images: 176126\n"
     ]
    },
    {
     "name": "stderr",
     "output_type": "stream",
     "text": [
      "100%|██████████| 176126/176126 [00:45<00:00, 3851.54it/s]\n"
     ]
    }
   ],
   "source": [
    "threshold = 0.3\n",
    "picklePath = 'output/res101/imagenetDETVID_val/faster_rcnn_10/detections.pkl'\n",
    "txtPath = 'output/res101/imagenetDETVID_val/faster_rcnn_10/detections_%s.txt'%(str(threshold))\n",
    "Boxes2Text(all_boxes, txtPath, imdb, threshold=threshold)"
   ]
  },
  {
   "cell_type": "code",
   "execution_count": 178,
   "metadata": {},
   "outputs": [
    {
     "name": "stderr",
     "output_type": "stream",
     "text": [
      "  0%|          | 381/176126 [00:00<00:46, 3808.32it/s]"
     ]
    },
    {
     "name": "stdout",
     "output_type": "stream",
     "text": [
      "num_images: 176126\n"
     ]
    },
    {
     "name": "stderr",
     "output_type": "stream",
     "text": [
      "100%|██████████| 176126/176126 [00:47<00:00, 3735.84it/s]\n"
     ]
    }
   ],
   "source": [
    "threshold = 0.2\n",
    "picklePath = 'output/res101/imagenetDETVID_val/faster_rcnn_10/detections.pkl'\n",
    "txtPath = 'output/res101/imagenetDETVID_val/faster_rcnn_10/detections_%s.txt'%(str(threshold))\n",
    "Boxes2Text(all_boxes, txtPath, imdb, threshold=threshold)"
   ]
  },
  {
   "cell_type": "code",
   "execution_count": 179,
   "metadata": {},
   "outputs": [
    {
     "name": "stderr",
     "output_type": "stream",
     "text": [
      "  0%|          | 312/176126 [00:00<00:56, 3112.15it/s]"
     ]
    },
    {
     "name": "stdout",
     "output_type": "stream",
     "text": [
      "num_images: 176126\n"
     ]
    },
    {
     "name": "stderr",
     "output_type": "stream",
     "text": [
      "100%|██████████| 176126/176126 [00:44<00:00, 3931.72it/s]\n"
     ]
    }
   ],
   "source": [
    "threshold = 0.1\n",
    "picklePath = 'output/res101/imagenetDETVID_val/faster_rcnn_10/detections.pkl'\n",
    "txtPath = 'output/res101/imagenetDETVID_val/faster_rcnn_10/detections_%s.txt'%(str(threshold))\n",
    "Boxes2Text(all_boxes, txtPath, imdb, threshold=threshold)"
   ]
  },
  {
   "cell_type": "code",
   "execution_count": 180,
   "metadata": {},
   "outputs": [
    {
     "name": "stderr",
     "output_type": "stream",
     "text": [
      "  0%|          | 169/176126 [00:00<01:44, 1682.75it/s]"
     ]
    },
    {
     "name": "stdout",
     "output_type": "stream",
     "text": [
      "num_images: 176126\n"
     ]
    },
    {
     "name": "stderr",
     "output_type": "stream",
     "text": [
      "100%|██████████| 176126/176126 [02:03<00:00, 1426.73it/s]\n"
     ]
    }
   ],
   "source": [
    "threshold = 0.0\n",
    "picklePath = 'output/res101/imagenetDETVID_val/faster_rcnn_10/detections.pkl'\n",
    "txtPath = 'output/res101/imagenetDETVID_val/faster_rcnn_10/detections_%s.txt'%(str(threshold))\n",
    "Boxes2Text(all_boxes, txtPath, imdb, threshold=threshold)"
   ]
  },
  {
   "cell_type": "markdown",
   "metadata": {},
   "source": [
    "### Effect for Seq-NMS."
   ]
  },
  {
   "cell_type": "code",
   "execution_count": 55,
   "metadata": {},
   "outputs": [
    {
     "name": "stdout",
     "output_type": "stream",
     "text": [
      "import cPickle\n"
     ]
    }
   ],
   "source": [
    "from __future__ import absolute_import\n",
    "from __future__ import division\n",
    "from __future__ import print_function\n",
    "\n",
    "import _init_paths\n",
    "from model.utils.config import cfg\n",
    "from roi_data_layer.roidb import combined_roidb\n",
    "from model.nms.seq_nms import seq_nms\n",
    "from os import path as osp\n",
    "import numpy as np\n",
    "from tqdm import tqdm\n",
    "try:\n",
    "    import cPickle as pickle\n",
    "    print('import cPickle')\n",
    "except:\n",
    "    import pickle\n",
    "    print('import python pickle')"
   ]
  },
  {
   "cell_type": "code",
   "execution_count": 11,
   "metadata": {},
   "outputs": [
    {
     "name": "stdout",
     "output_type": "stream",
     "text": [
      "Total number of videos are: 555.\n",
      "Total number of video images are: 176126.\n",
      "Loaded dataset `imagenetVID_val` for training\n",
      "Set proposal method: gt\n",
      "Preparing training data...\n",
      "/home/lvye/lvye/VODProj/faster-rcnn.pytorch/data/cache/imagenetVID_val_gt_roidb.pkl\n",
      "imagenetVID_val gt roidb loaded from /home/lvye/lvye/VODProj/faster-rcnn.pytorch/data/cache/imagenetVID_val_gt_roidb.pkl\n",
      "Image sizes loaded from /home/lvye/lvye/VODProj/faster-rcnn.pytorch/data/cache/imagenetVID_val_sizes.pkl\n",
      "done\n",
      "Total number of videos are: 555.\n",
      "Total number of video images are: 176126.\n"
     ]
    }
   ],
   "source": [
    "imdbval_name = 'imagenetVID_val'\n",
    "cfg.TRAIN.USE_FLIPPED = False\n",
    "imdb, roidb, ratio_list, ratio_index = combined_roidb(imdbval_name, False)\n",
    "imdb.competition_mode(on=True)\n",
    "image_index, structured_indexes = imdb._image_index, imdb._structured_indexes"
   ]
  },
  {
   "cell_type": "code",
   "execution_count": 39,
   "metadata": {},
   "outputs": [],
   "source": [
    "def all_boxes_by_frame_index(all_boxes, indexes):\n",
    "    new_all_boxes = []\n",
    "    for cat_boxes in all_boxes:\n",
    "        cat_b = []\n",
    "        for index in indexes:\n",
    "            cat_b.append(cat_boxes[index])\n",
    "        new_all_boxes.append(cat_b)\n",
    "    return new_all_boxes"
   ]
  },
  {
   "cell_type": "code",
   "execution_count": 40,
   "metadata": {},
   "outputs": [],
   "source": [
    "def seqNMS(all_boxes):\n",
    "    all_boxes_nms = [all_boxes[i] for i in range(1,len(all_boxes))]\n",
    "    all_boxes_nms = [all_boxes[0]] + seq_nms(all_boxes_nms)\n",
    "    return all_boxes_nms"
   ]
  },
  {
   "cell_type": "code",
   "execution_count": 52,
   "metadata": {},
   "outputs": [],
   "source": [
    "def seqNMS_all_boxes(all_boxes):\n",
    "    out_all_boxes = [[] for i in range(len(all_boxes))]\n",
    "    for vid_id in range(len(structured_indexes)):\n",
    "        print('vid:%04d/%04d\\n'%(vid_id,len(structured_indexes)),end='')\n",
    "        vid_indexes = structured_indexes[vid_id]\n",
    "        vid_boxes = all_boxes_by_frame_index(all_boxes, vid_indexes)\n",
    "        vid_boxes = seqNMS(vid_boxes)\n",
    "        for cat_id in range(len(all_boxes)):\n",
    "            out_all_boxes[cat_id].extend(vid_boxes[cat_id])\n",
    "        for cat_id in range(len(all_boxes)-1):\n",
    "            assert len(out_all_boxes[cat_id]) == len(out_all_boxes[cat_id+1]),'length of categories are not equal.'\n",
    "    return out_all_boxes"
   ]
  },
  {
   "cell_type": "code",
   "execution_count": null,
   "metadata": {},
   "outputs": [],
   "source": [
    "def Boxes2Text(all_boxes, txtPath, imdb, threshold = 0.0):\n",
    "    num_images = len(imdb.image_index)\n",
    "    print('num_images:',num_images)\n",
    "    assert len(all_boxes[0])==num_images, 'Number of images not equal.'\n",
    "    with open(txtPath,'w') as ft:\n",
    "        for i in tqdm(range(len(imdb.image_index))):\n",
    "            for j in range(len(imdb.classes)):\n",
    "                if isinstance(all_boxes[j][i], np.ndarray):\n",
    "                    for bbox in all_boxes[j][i]:\n",
    "                        if bbox[-1]>threshold:\n",
    "                            item_temp = '%d %d %f %f %f %f %f\\n'%(\n",
    "                                i+1,j,bbox[-1],bbox[0],bbox[1],bbox[2],bbox[3])\n",
    "                            ft.write(item_temp)"
   ]
  },
  {
   "cell_type": "code",
   "execution_count": null,
   "metadata": {},
   "outputs": [],
   "source": [
    "# Load boxes.\n",
    "model_name = 'faster_rcnn_10'\n",
    "picklePath = osp.join('output/res101/imagenetDETVID_val',model_name,'detections.pkl')\n",
    "with open(picklePath) as f:\n",
    "    all_boxes = pickle.load(f)"
   ]
  },
  {
   "cell_type": "code",
   "execution_count": 54,
   "metadata": {},
   "outputs": [
    {
     "name": "stdout",
     "output_type": "stream",
     "text": [
      "vid:0000/0555\n",
      "vid:0001/0555\n",
      "vid:0002/0555\n",
      "vid:0003/0555\n",
      "vid:0004/0555\n",
      "vid:0005/0555\n",
      "vid:0006/0555\n",
      "vid:0007/0555\n",
      "vid:0008/0555\n",
      "vid:0009/0555\n",
      "vid:0010/0555\n",
      "vid:0011/0555\n",
      "vid:0012/0555\n",
      "vid:0013/0555\n",
      "vid:0014/0555\n",
      "vid:0015/0555\n",
      "vid:0016/0555\n",
      "vid:0017/0555\n",
      "vid:0018/0555\n",
      "vid:0019/0555\n",
      "vid:0020/0555\n",
      "vid:0021/0555\n",
      "vid:0022/0555\n",
      "vid:0023/0555\n",
      "vid:0024/0555\n",
      "vid:0025/0555\n",
      "vid:0026/0555\n",
      "vid:0027/0555\n",
      "vid:0028/0555\n",
      "vid:0029/0555\n",
      "vid:0030/0555\n",
      "vid:0031/0555\n",
      "vid:0032/0555\n",
      "vid:0033/0555\n",
      "vid:0034/0555\n",
      "vid:0035/0555\n",
      "vid:0036/0555\n",
      "vid:0037/0555\n",
      "vid:0038/0555\n",
      "vid:0039/0555\n",
      "vid:0040/0555\n",
      "vid:0041/0555\n",
      "vid:0042/0555\n",
      "vid:0043/0555\n",
      "vid:0044/0555\n",
      "vid:0045/0555\n",
      "vid:0046/0555\n",
      "vid:0047/0555\n",
      "vid:0048/0555\n",
      "vid:0049/0555\n",
      "vid:0050/0555\n",
      "vid:0051/0555\n",
      "vid:0052/0555\n",
      "vid:0053/0555\n",
      "vid:0054/0555\n",
      "vid:0055/0555\n",
      "vid:0056/0555\n",
      "vid:0057/0555\n",
      "vid:0058/0555\n",
      "vid:0059/0555\n",
      "vid:0060/0555\n",
      "vid:0061/0555\n",
      "vid:0062/0555\n",
      "vid:0063/0555\n",
      "vid:0064/0555\n",
      "vid:0065/0555\n",
      "vid:0066/0555\n",
      "vid:0067/0555\n",
      "vid:0068/0555\n",
      "vid:0069/0555\n",
      "vid:0070/0555\n",
      "vid:0071/0555\n",
      "vid:0072/0555\n",
      "vid:0073/0555\n",
      "vid:0074/0555\n",
      "vid:0075/0555\n",
      "vid:0076/0555\n",
      "vid:0077/0555\n",
      "vid:0078/0555\n",
      "vid:0079/0555\n",
      "vid:0080/0555\n",
      "vid:0081/0555\n",
      "vid:0082/0555\n",
      "vid:0083/0555\n",
      "vid:0084/0555\n",
      "vid:0085/0555\n",
      "vid:0086/0555\n",
      "vid:0087/0555\n",
      "vid:0088/0555\n",
      "vid:0089/0555\n",
      "vid:0090/0555\n",
      "vid:0091/0555\n",
      "vid:0092/0555\n",
      "vid:0093/0555\n",
      "vid:0094/0555\n",
      "vid:0095/0555\n",
      "vid:0096/0555\n",
      "vid:0097/0555\n",
      "vid:0098/0555\n",
      "vid:0099/0555\n",
      "vid:0100/0555\n",
      "vid:0101/0555\n",
      "vid:0102/0555\n",
      "vid:0103/0555\n",
      "vid:0104/0555\n",
      "vid:0105/0555\n",
      "vid:0106/0555\n",
      "vid:0107/0555\n",
      "vid:0108/0555\n",
      "vid:0109/0555\n",
      "vid:0110/0555\n",
      "vid:0111/0555\n",
      "vid:0112/0555\n",
      "vid:0113/0555\n",
      "vid:0114/0555\n",
      "vid:0115/0555\n",
      "vid:0116/0555\n",
      "vid:0117/0555\n",
      "vid:0118/0555\n",
      "vid:0119/0555\n",
      "vid:0120/0555\n",
      "vid:0121/0555\n",
      "vid:0122/0555\n",
      "vid:0123/0555\n",
      "vid:0124/0555\n",
      "vid:0125/0555\n",
      "vid:0126/0555\n",
      "vid:0127/0555\n",
      "vid:0128/0555\n",
      "vid:0129/0555\n",
      "vid:0130/0555\n",
      "vid:0131/0555\n",
      "vid:0132/0555\n",
      "vid:0133/0555\n",
      "vid:0134/0555\n",
      "vid:0135/0555\n",
      "vid:0136/0555\n",
      "vid:0137/0555\n",
      "vid:0138/0555\n",
      "vid:0139/0555\n",
      "vid:0140/0555\n",
      "vid:0141/0555\n",
      "vid:0142/0555\n",
      "vid:0143/0555\n",
      "vid:0144/0555\n",
      "vid:0145/0555\n",
      "vid:0146/0555\n",
      "vid:0147/0555\n",
      "vid:0148/0555\n",
      "vid:0149/0555\n",
      "vid:0150/0555\n",
      "vid:0151/0555\n",
      "vid:0152/0555\n",
      "vid:0153/0555\n",
      "vid:0154/0555\n",
      "vid:0155/0555\n",
      "vid:0156/0555\n",
      "vid:0157/0555\n",
      "vid:0158/0555\n",
      "vid:0159/0555\n",
      "vid:0160/0555\n",
      "vid:0161/0555\n",
      "vid:0162/0555\n",
      "vid:0163/0555\n",
      "vid:0164/0555\n",
      "vid:0165/0555\n",
      "vid:0166/0555\n",
      "vid:0167/0555\n",
      "vid:0168/0555\n",
      "vid:0169/0555\n",
      "vid:0170/0555\n",
      "vid:0171/0555\n",
      "vid:0172/0555\n",
      "vid:0173/0555\n",
      "vid:0174/0555\n",
      "vid:0175/0555\n",
      "vid:0176/0555\n",
      "vid:0177/0555\n",
      "vid:0178/0555\n",
      "vid:0179/0555\n",
      "vid:0180/0555\n",
      "vid:0181/0555\n",
      "vid:0182/0555\n",
      "vid:0183/0555\n",
      "vid:0184/0555\n",
      "vid:0185/0555\n",
      "vid:0186/0555\n",
      "vid:0187/0555\n",
      "vid:0188/0555\n",
      "vid:0189/0555\n",
      "vid:0190/0555\n",
      "vid:0191/0555\n",
      "vid:0192/0555\n",
      "vid:0193/0555\n",
      "vid:0194/0555\n",
      "vid:0195/0555\n",
      "vid:0196/0555\n",
      "vid:0197/0555\n",
      "vid:0198/0555\n",
      "vid:0199/0555\n",
      "vid:0200/0555\n",
      "vid:0201/0555\n",
      "vid:0202/0555\n",
      "vid:0203/0555\n",
      "vid:0204/0555\n",
      "vid:0205/0555\n",
      "vid:0206/0555\n",
      "vid:0207/0555\n",
      "vid:0208/0555\n",
      "vid:0209/0555\n",
      "vid:0210/0555\n",
      "vid:0211/0555\n",
      "vid:0212/0555\n",
      "vid:0213/0555\n",
      "vid:0214/0555\n",
      "vid:0215/0555\n",
      "vid:0216/0555\n",
      "vid:0217/0555\n",
      "vid:0218/0555\n",
      "vid:0219/0555\n",
      "vid:0220/0555\n",
      "vid:0221/0555\n",
      "vid:0222/0555\n",
      "vid:0223/0555\n",
      "vid:0224/0555\n",
      "vid:0225/0555\n",
      "vid:0226/0555\n",
      "vid:0227/0555\n",
      "vid:0228/0555\n",
      "vid:0229/0555\n",
      "vid:0230/0555\n",
      "vid:0231/0555\n",
      "vid:0232/0555\n",
      "vid:0233/0555\n",
      "vid:0234/0555\n",
      "vid:0235/0555\n",
      "vid:0236/0555\n",
      "vid:0237/0555\n",
      "vid:0238/0555\n",
      "vid:0239/0555\n",
      "vid:0240/0555\n",
      "vid:0241/0555\n",
      "vid:0242/0555\n",
      "vid:0243/0555\n",
      "vid:0244/0555\n",
      "vid:0245/0555\n",
      "vid:0246/0555\n",
      "vid:0247/0555\n",
      "vid:0248/0555\n",
      "vid:0249/0555\n",
      "vid:0250/0555\n",
      "vid:0251/0555\n",
      "vid:0252/0555\n",
      "vid:0253/0555\n",
      "vid:0254/0555\n",
      "vid:0255/0555\n",
      "vid:0256/0555\n",
      "vid:0257/0555\n",
      "vid:0258/0555\n",
      "vid:0259/0555\n",
      "vid:0260/0555\n",
      "vid:0261/0555\n",
      "vid:0262/0555\n",
      "vid:0263/0555\n",
      "vid:0264/0555\n",
      "vid:0265/0555\n",
      "vid:0266/0555\n",
      "vid:0267/0555\n",
      "vid:0268/0555\n",
      "vid:0269/0555\n",
      "vid:0270/0555\n",
      "vid:0271/0555\n",
      "vid:0272/0555\n",
      "vid:0273/0555\n",
      "vid:0274/0555\n",
      "vid:0275/0555\n",
      "vid:0276/0555\n",
      "vid:0277/0555\n",
      "vid:0278/0555\n",
      "vid:0279/0555\n",
      "vid:0280/0555\n",
      "vid:0281/0555\n",
      "vid:0282/0555\n",
      "vid:0283/0555\n",
      "vid:0284/0555\n",
      "vid:0285/0555\n",
      "vid:0286/0555\n",
      "vid:0287/0555\n",
      "vid:0288/0555\n",
      "vid:0289/0555\n",
      "vid:0290/0555\n",
      "vid:0291/0555\n",
      "vid:0292/0555\n",
      "vid:0293/0555\n",
      "vid:0294/0555\n",
      "vid:0295/0555\n",
      "vid:0296/0555\n",
      "vid:0297/0555\n",
      "vid:0298/0555\n",
      "vid:0299/0555\n",
      "vid:0300/0555\n",
      "vid:0301/0555\n",
      "vid:0302/0555\n",
      "vid:0303/0555\n",
      "vid:0304/0555\n",
      "vid:0305/0555\n",
      "vid:0306/0555\n",
      "vid:0307/0555\n",
      "vid:0308/0555\n",
      "vid:0309/0555\n",
      "vid:0310/0555\n",
      "vid:0311/0555\n",
      "vid:0312/0555\n",
      "vid:0313/0555\n",
      "vid:0314/0555\n",
      "vid:0315/0555\n",
      "vid:0316/0555\n",
      "vid:0317/0555\n",
      "vid:0318/0555\n",
      "vid:0319/0555\n",
      "vid:0320/0555\n",
      "vid:0321/0555\n",
      "vid:0322/0555\n",
      "vid:0323/0555\n",
      "vid:0324/0555\n",
      "vid:0325/0555\n",
      "vid:0326/0555\n",
      "vid:0327/0555\n",
      "vid:0328/0555\n",
      "vid:0329/0555\n",
      "vid:0330/0555\n",
      "vid:0331/0555\n",
      "vid:0332/0555\n",
      "vid:0333/0555\n",
      "vid:0334/0555\n",
      "vid:0335/0555\n",
      "vid:0336/0555\n",
      "vid:0337/0555\n",
      "vid:0338/0555\n",
      "vid:0339/0555\n",
      "vid:0340/0555\n",
      "vid:0341/0555\n",
      "vid:0342/0555\n",
      "vid:0343/0555\n",
      "vid:0344/0555\n",
      "vid:0345/0555\n",
      "vid:0346/0555\n",
      "vid:0347/0555\n",
      "vid:0348/0555\n",
      "vid:0349/0555\n",
      "vid:0350/0555\n",
      "vid:0351/0555\n",
      "vid:0352/0555\n",
      "vid:0353/0555\n",
      "vid:0354/0555\n",
      "vid:0355/0555\n",
      "vid:0356/0555\n",
      "vid:0357/0555\n",
      "vid:0358/0555\n",
      "vid:0359/0555\n",
      "vid:0360/0555\n",
      "vid:0361/0555\n",
      "vid:0362/0555\n",
      "vid:0363/0555\n",
      "vid:0364/0555\n",
      "vid:0365/0555\n",
      "vid:0366/0555\n",
      "vid:0367/0555\n",
      "vid:0368/0555\n",
      "vid:0369/0555\n",
      "vid:0370/0555\n",
      "vid:0371/0555\n",
      "vid:0372/0555\n",
      "vid:0373/0555\n",
      "vid:0374/0555\n",
      "vid:0375/0555\n",
      "vid:0376/0555\n",
      "vid:0377/0555\n",
      "vid:0378/0555\n",
      "vid:0379/0555\n",
      "vid:0380/0555\n",
      "vid:0381/0555\n",
      "vid:0382/0555\n",
      "vid:0383/0555\n",
      "vid:0384/0555\n",
      "vid:0385/0555\n",
      "vid:0386/0555\n",
      "vid:0387/0555\n",
      "vid:0388/0555\n",
      "vid:0389/0555\n",
      "vid:0390/0555\n",
      "vid:0391/0555\n",
      "vid:0392/0555\n",
      "vid:0393/0555\n",
      "vid:0394/0555\n",
      "vid:0395/0555\n",
      "vid:0396/0555\n",
      "vid:0397/0555\n",
      "vid:0398/0555\n",
      "vid:0399/0555\n",
      "vid:0400/0555\n",
      "vid:0401/0555\n",
      "vid:0402/0555\n",
      "vid:0403/0555\n",
      "vid:0404/0555\n",
      "vid:0405/0555\n",
      "vid:0406/0555\n",
      "vid:0407/0555\n",
      "vid:0408/0555\n",
      "vid:0409/0555\n",
      "vid:0410/0555\n",
      "vid:0411/0555\n",
      "vid:0412/0555\n",
      "vid:0413/0555\n",
      "vid:0414/0555\n",
      "vid:0415/0555\n",
      "vid:0416/0555\n",
      "vid:0417/0555\n",
      "vid:0418/0555\n",
      "vid:0419/0555\n",
      "vid:0420/0555\n",
      "vid:0421/0555\n",
      "vid:0422/0555\n",
      "vid:0423/0555\n",
      "vid:0424/0555\n",
      "vid:0425/0555\n",
      "vid:0426/0555\n",
      "vid:0427/0555\n",
      "vid:0428/0555\n",
      "vid:0429/0555\n",
      "vid:0430/0555\n",
      "vid:0431/0555\n",
      "vid:0432/0555\n",
      "vid:0433/0555\n",
      "vid:0434/0555\n",
      "vid:0435/0555\n",
      "vid:0436/0555\n",
      "vid:0437/0555\n",
      "vid:0438/0555\n",
      "vid:0439/0555\n",
      "vid:0440/0555\n",
      "vid:0441/0555\n",
      "vid:0442/0555\n",
      "vid:0443/0555\n",
      "vid:0444/0555\n",
      "vid:0445/0555\n",
      "vid:0446/0555\n",
      "vid:0447/0555\n",
      "vid:0448/0555\n",
      "vid:0449/0555\n",
      "vid:0450/0555\n",
      "vid:0451/0555\n",
      "vid:0452/0555\n",
      "vid:0453/0555\n",
      "vid:0454/0555\n",
      "vid:0455/0555\n",
      "vid:0456/0555\n",
      "vid:0457/0555\n",
      "vid:0458/0555\n",
      "vid:0459/0555\n",
      "vid:0460/0555\n",
      "vid:0461/0555\n",
      "vid:0462/0555\n",
      "vid:0463/0555\n",
      "vid:0464/0555\n",
      "vid:0465/0555\n",
      "vid:0466/0555\n",
      "vid:0467/0555\n",
      "vid:0468/0555\n",
      "vid:0469/0555\n",
      "vid:0470/0555\n",
      "vid:0471/0555\n",
      "vid:0472/0555\n",
      "vid:0473/0555\n",
      "vid:0474/0555\n",
      "vid:0475/0555\n",
      "vid:0476/0555\n",
      "vid:0477/0555\n",
      "vid:0478/0555\n",
      "vid:0479/0555\n",
      "vid:0480/0555\n",
      "vid:0481/0555\n",
      "vid:0482/0555\n",
      "vid:0483/0555\n",
      "vid:0484/0555\n",
      "vid:0485/0555\n",
      "vid:0486/0555\n",
      "vid:0487/0555\n",
      "vid:0488/0555\n",
      "vid:0489/0555\n",
      "vid:0490/0555\n",
      "vid:0491/0555\n",
      "vid:0492/0555\n",
      "vid:0493/0555\n",
      "vid:0494/0555\n",
      "vid:0495/0555\n",
      "vid:0496/0555\n",
      "vid:0497/0555\n",
      "vid:0498/0555\n",
      "vid:0499/0555\n",
      "vid:0500/0555\n",
      "vid:0501/0555\n",
      "vid:0502/0555\n",
      "vid:0503/0555\n",
      "vid:0504/0555\n",
      "vid:0505/0555\n",
      "vid:0506/0555\n",
      "vid:0507/0555\n",
      "vid:0508/0555\n",
      "vid:0509/0555\n",
      "vid:0510/0555\n",
      "vid:0511/0555\n",
      "vid:0512/0555\n",
      "vid:0513/0555\n",
      "vid:0514/0555\n",
      "vid:0515/0555\n",
      "vid:0516/0555\n",
      "vid:0517/0555\n",
      "vid:0518/0555\n",
      "vid:0519/0555\n",
      "vid:0520/0555\n",
      "vid:0521/0555\n",
      "vid:0522/0555\n",
      "vid:0523/0555\n",
      "vid:0524/0555\n",
      "vid:0525/0555\n",
      "vid:0526/0555\n",
      "vid:0527/0555\n",
      "vid:0528/0555\n",
      "vid:0529/0555\n",
      "vid:0530/0555\n",
      "vid:0531/0555\n",
      "vid:0532/0555\n",
      "vid:0533/0555\n",
      "vid:0534/0555\n",
      "vid:0535/0555\n",
      "vid:0536/0555\n",
      "vid:0537/0555\n",
      "vid:0538/0555\n",
      "vid:0539/0555\n",
      "vid:0540/0555\n",
      "vid:0541/0555\n",
      "vid:0542/0555\n",
      "vid:0543/0555\n",
      "vid:0544/0555\n",
      "vid:0545/0555\n",
      "vid:0546/0555\n",
      "vid:0547/0555\n",
      "vid:0548/0555\n",
      "vid:0549/0555\n",
      "vid:0550/0555\n",
      "vid:0551/0555\n",
      "vid:0552/0555\n",
      "vid:0553/0555\n",
      "vid:0554/0555\n",
      "num_images: 176126\n"
     ]
    },
    {
     "ename": "NameError",
     "evalue": "global name 'tqdm' is not defined",
     "output_type": "error",
     "traceback": [
      "\u001b[0;31m---------------------------------------------------------------------------\u001b[0m",
      "\u001b[0;31mNameError\u001b[0m                                 Traceback (most recent call last)",
      "\u001b[0;32m<ipython-input-54-042c8326740f>\u001b[0m in \u001b[0;36m<module>\u001b[0;34m()\u001b[0m\n\u001b[1;32m      6\u001b[0m \u001b[0;32mwith\u001b[0m \u001b[0mopen\u001b[0m\u001b[0;34m(\u001b[0m\u001b[0mpklPath\u001b[0m\u001b[0;34m,\u001b[0m \u001b[0;34m'wb'\u001b[0m\u001b[0;34m)\u001b[0m \u001b[0;32mas\u001b[0m \u001b[0mf\u001b[0m\u001b[0;34m:\u001b[0m\u001b[0;34m\u001b[0m\u001b[0m\n\u001b[1;32m      7\u001b[0m     \u001b[0mpickle\u001b[0m\u001b[0;34m.\u001b[0m\u001b[0mdump\u001b[0m\u001b[0;34m(\u001b[0m\u001b[0mall_boxes\u001b[0m\u001b[0;34m,\u001b[0m \u001b[0mf\u001b[0m\u001b[0;34m,\u001b[0m \u001b[0mpickle\u001b[0m\u001b[0;34m.\u001b[0m\u001b[0mHIGHEST_PROTOCOL\u001b[0m\u001b[0;34m)\u001b[0m\u001b[0;34m\u001b[0m\u001b[0m\n\u001b[0;32m----> 8\u001b[0;31m \u001b[0mBoxes2Text\u001b[0m\u001b[0;34m(\u001b[0m\u001b[0mall_boxes_nms\u001b[0m\u001b[0;34m,\u001b[0m \u001b[0mtxtPath\u001b[0m\u001b[0;34m,\u001b[0m \u001b[0mimdb\u001b[0m\u001b[0;34m,\u001b[0m \u001b[0mthreshold\u001b[0m\u001b[0;34m=\u001b[0m\u001b[0mthreshold\u001b[0m\u001b[0;34m)\u001b[0m\u001b[0;34m\u001b[0m\u001b[0m\n\u001b[0m",
      "\u001b[0;32m<ipython-input-47-5a3ada7bea13>\u001b[0m in \u001b[0;36mBoxes2Text\u001b[0;34m(all_boxes, txtPath, imdb, threshold)\u001b[0m\n\u001b[1;32m      4\u001b[0m     \u001b[0;32massert\u001b[0m \u001b[0mlen\u001b[0m\u001b[0;34m(\u001b[0m\u001b[0mall_boxes\u001b[0m\u001b[0;34m[\u001b[0m\u001b[0;36m0\u001b[0m\u001b[0;34m]\u001b[0m\u001b[0;34m)\u001b[0m\u001b[0;34m==\u001b[0m\u001b[0mnum_images\u001b[0m\u001b[0;34m,\u001b[0m \u001b[0;34m'Number of images not equal.'\u001b[0m\u001b[0;34m\u001b[0m\u001b[0m\n\u001b[1;32m      5\u001b[0m     \u001b[0;32mwith\u001b[0m \u001b[0mopen\u001b[0m\u001b[0;34m(\u001b[0m\u001b[0mtxtPath\u001b[0m\u001b[0;34m,\u001b[0m\u001b[0;34m'w'\u001b[0m\u001b[0;34m)\u001b[0m \u001b[0;32mas\u001b[0m \u001b[0mft\u001b[0m\u001b[0;34m:\u001b[0m\u001b[0;34m\u001b[0m\u001b[0m\n\u001b[0;32m----> 6\u001b[0;31m         \u001b[0;32mfor\u001b[0m \u001b[0mi\u001b[0m \u001b[0;32min\u001b[0m \u001b[0mtqdm\u001b[0m\u001b[0;34m(\u001b[0m\u001b[0mrange\u001b[0m\u001b[0;34m(\u001b[0m\u001b[0mlen\u001b[0m\u001b[0;34m(\u001b[0m\u001b[0mimdb\u001b[0m\u001b[0;34m.\u001b[0m\u001b[0mimage_index\u001b[0m\u001b[0;34m)\u001b[0m\u001b[0;34m)\u001b[0m\u001b[0;34m)\u001b[0m\u001b[0;34m:\u001b[0m\u001b[0;34m\u001b[0m\u001b[0m\n\u001b[0m\u001b[1;32m      7\u001b[0m             \u001b[0;32mfor\u001b[0m \u001b[0mj\u001b[0m \u001b[0;32min\u001b[0m \u001b[0mrange\u001b[0m\u001b[0;34m(\u001b[0m\u001b[0mlen\u001b[0m\u001b[0;34m(\u001b[0m\u001b[0mimdb\u001b[0m\u001b[0;34m.\u001b[0m\u001b[0mclasses\u001b[0m\u001b[0;34m)\u001b[0m\u001b[0;34m)\u001b[0m\u001b[0;34m:\u001b[0m\u001b[0;34m\u001b[0m\u001b[0m\n\u001b[1;32m      8\u001b[0m                 \u001b[0;32mif\u001b[0m \u001b[0misinstance\u001b[0m\u001b[0;34m(\u001b[0m\u001b[0mall_boxes\u001b[0m\u001b[0;34m[\u001b[0m\u001b[0mj\u001b[0m\u001b[0;34m]\u001b[0m\u001b[0;34m[\u001b[0m\u001b[0mi\u001b[0m\u001b[0;34m]\u001b[0m\u001b[0;34m,\u001b[0m \u001b[0mnp\u001b[0m\u001b[0;34m.\u001b[0m\u001b[0mndarray\u001b[0m\u001b[0;34m)\u001b[0m\u001b[0;34m:\u001b[0m\u001b[0;34m\u001b[0m\u001b[0m\n",
      "\u001b[0;31mNameError\u001b[0m: global name 'tqdm' is not defined"
     ]
    }
   ],
   "source": [
    "# NMS.\n",
    "all_boxes_nms = seqNMS_all_boxes(all_boxes)\n",
    "threshold = 0.0\n",
    "txtPath = osp.join('output/res101/imagenetDETVID_val',model_name,'detections_%s_%f.txt'%('seq_nms',threshold))\n",
    "pklPath = osp.join('output/res101/imagenetDETVID_val',model_name,'detections_%s_%f.pkl'%('seq_nms',threshold))\n",
    "with open(pklPath, 'wb') as f:\n",
    "    pickle.dump(all_boxes, f, pickle.HIGHEST_PROTOCOL)\n",
    "Boxes2Text(all_boxes_nms, txtPath, imdb, threshold=threshold)"
   ]
  },
  {
   "cell_type": "code",
   "execution_count": 56,
   "metadata": {},
   "outputs": [
    {
     "name": "stderr",
     "output_type": "stream",
     "text": [
      "  0%|          | 89/176126 [00:00<03:18, 885.76it/s]"
     ]
    },
    {
     "name": "stdout",
     "output_type": "stream",
     "text": [
      "num_images: 176126\n"
     ]
    },
    {
     "name": "stderr",
     "output_type": "stream",
     "text": [
      "100%|██████████| 176126/176126 [02:14<00:00, 1313.23it/s]\n"
     ]
    }
   ],
   "source": [
    "Boxes2Text(all_boxes_nms, txtPath, imdb, threshold=threshold)"
   ]
  },
  {
   "cell_type": "code",
   "execution_count": 57,
   "metadata": {},
   "outputs": [],
   "source": [
    "# Load boxes.\n",
    "model_name = 'rfcn_light_head'\n",
    "picklePath = osp.join('output/res101/imagenetDETVID_val',model_name,'detections.pkl')\n",
    "with open(picklePath) as f:\n",
    "    all_boxes = pickle.load(f)"
   ]
  },
  {
   "cell_type": "code",
   "execution_count": null,
   "metadata": {},
   "outputs": [
    {
     "name": "stdout",
     "output_type": "stream",
     "text": [
      "vid:0000/0555\n",
      "vid:0001/0555\n",
      "vid:0002/0555\n",
      "vid:0003/0555\n",
      "vid:0004/0555\n",
      "vid:0005/0555\n",
      "vid:0006/0555\n",
      "vid:0007/0555\n",
      "vid:0008/0555\n",
      "vid:0009/0555\n",
      "vid:0010/0555\n",
      "vid:0011/0555\n",
      "vid:0012/0555\n",
      "vid:0013/0555\n",
      "vid:0014/0555\n",
      "vid:0015/0555\n",
      "vid:0016/0555\n",
      "vid:0017/0555\n",
      "vid:0018/0555\n",
      "vid:0019/0555\n",
      "vid:0020/0555\n",
      "vid:0021/0555\n",
      "vid:0022/0555\n",
      "vid:0023/0555\n",
      "vid:0024/0555\n",
      "vid:0025/0555\n",
      "vid:0026/0555\n",
      "vid:0027/0555\n",
      "vid:0028/0555\n",
      "vid:0029/0555\n",
      "vid:0030/0555\n",
      "vid:0031/0555\n",
      "vid:0032/0555\n",
      "vid:0033/0555\n",
      "vid:0034/0555\n",
      "vid:0035/0555\n",
      "vid:0036/0555\n",
      "vid:0037/0555\n",
      "vid:0038/0555\n",
      "vid:0039/0555\n",
      "vid:0040/0555\n",
      "vid:0041/0555\n",
      "vid:0042/0555\n",
      "vid:0043/0555\n",
      "vid:0044/0555\n",
      "vid:0045/0555\n",
      "vid:0046/0555\n",
      "vid:0047/0555\n",
      "vid:0048/0555\n",
      "vid:0049/0555\n",
      "vid:0050/0555\n",
      "vid:0051/0555\n",
      "vid:0052/0555\n",
      "vid:0053/0555\n",
      "vid:0054/0555\n",
      "vid:0055/0555\n",
      "vid:0056/0555\n",
      "vid:0057/0555\n",
      "vid:0058/0555\n",
      "vid:0059/0555\n",
      "vid:0060/0555\n",
      "vid:0061/0555\n",
      "vid:0062/0555\n",
      "vid:0063/0555\n",
      "vid:0064/0555\n",
      "vid:0065/0555\n",
      "vid:0066/0555\n",
      "vid:0067/0555\n",
      "vid:0068/0555\n",
      "vid:0069/0555\n",
      "vid:0070/0555\n",
      "vid:0071/0555\n",
      "vid:0072/0555\n",
      "vid:0073/0555\n",
      "vid:0074/0555\n",
      "vid:0075/0555\n",
      "vid:0076/0555\n",
      "vid:0077/0555\n",
      "vid:0078/0555\n",
      "vid:0079/0555\n",
      "vid:0080/0555\n",
      "vid:0081/0555\n",
      "vid:0082/0555\n",
      "vid:0083/0555\n",
      "vid:0084/0555\n",
      "vid:0085/0555\n",
      "vid:0086/0555\n",
      "vid:0087/0555\n",
      "vid:0088/0555\n",
      "vid:0089/0555\n",
      "vid:0090/0555\n",
      "vid:0091/0555\n",
      "vid:0092/0555\n",
      "vid:0093/0555\n",
      "vid:0094/0555\n",
      "vid:0095/0555\n",
      "vid:0096/0555\n",
      "vid:0097/0555\n",
      "vid:0098/0555\n",
      "vid:0099/0555\n",
      "vid:0100/0555\n",
      "vid:0101/0555\n",
      "vid:0102/0555\n",
      "vid:0103/0555\n",
      "vid:0104/0555\n",
      "vid:0105/0555\n",
      "vid:0106/0555\n",
      "vid:0107/0555\n",
      "vid:0108/0555\n",
      "vid:0109/0555\n",
      "vid:0110/0555\n",
      "vid:0111/0555\n",
      "vid:0112/0555\n",
      "vid:0113/0555\n",
      "vid:0114/0555\n",
      "vid:0115/0555\n",
      "vid:0116/0555\n",
      "vid:0117/0555\n",
      "vid:0118/0555\n",
      "vid:0119/0555\n",
      "vid:0120/0555\n",
      "vid:0121/0555\n",
      "vid:0122/0555\n",
      "vid:0123/0555\n",
      "vid:0124/0555\n",
      "vid:0125/0555\n",
      "vid:0126/0555\n",
      "vid:0127/0555\n",
      "vid:0128/0555\n",
      "vid:0129/0555\n",
      "vid:0130/0555\n",
      "vid:0131/0555\n",
      "vid:0132/0555\n",
      "vid:0133/0555\n",
      "vid:0134/0555\n",
      "vid:0135/0555\n",
      "vid:0136/0555\n",
      "vid:0137/0555\n",
      "vid:0138/0555\n",
      "vid:0139/0555\n",
      "vid:0140/0555\n",
      "vid:0141/0555\n",
      "vid:0142/0555\n",
      "vid:0143/0555\n",
      "vid:0144/0555\n",
      "vid:0145/0555\n",
      "vid:0146/0555\n",
      "vid:0147/0555\n",
      "vid:0148/0555\n",
      "vid:0149/0555\n",
      "vid:0150/0555\n",
      "vid:0151/0555\n",
      "vid:0152/0555\n",
      "vid:0153/0555\n",
      "vid:0154/0555\n",
      "vid:0155/0555\n",
      "vid:0156/0555\n",
      "vid:0157/0555\n",
      "vid:0158/0555\n",
      "vid:0159/0555\n",
      "vid:0160/0555\n",
      "vid:0161/0555\n",
      "vid:0162/0555\n",
      "vid:0163/0555\n",
      "vid:0164/0555\n",
      "vid:0165/0555\n",
      "vid:0166/0555\n",
      "vid:0167/0555\n",
      "vid:0168/0555\n",
      "vid:0169/0555\n",
      "vid:0170/0555\n",
      "vid:0171/0555\n"
     ]
    }
   ],
   "source": [
    "# NMS.\n",
    "all_boxes_nms = seqNMS_all_boxes(all_boxes)\n",
    "threshold = 0.0\n",
    "txtPath = osp.join('output/res101/imagenetDETVID_val',model_name,'detections_%s_%f.txt'%('seq_nms',threshold))\n",
    "pklPath = osp.join('output/res101/imagenetDETVID_val',model_name,'detections_%s_%f.pkl'%('seq_nms',threshold))\n",
    "with open(pklPath, 'wb') as f:\n",
    "    pickle.dump(all_boxes, f, pickle.HIGHEST_PROTOCOL)\n",
    "Boxes2Text(all_boxes_nms, txtPath, imdb, threshold=threshold)"
   ]
  },
  {
   "cell_type": "code",
   "execution_count": null,
   "metadata": {},
   "outputs": [],
   "source": []
  }
 ],
 "metadata": {
  "kernelspec": {
   "display_name": "Python 2",
   "language": "python",
   "name": "python2"
  },
  "language_info": {
   "codemirror_mode": {
    "name": "ipython",
    "version": 2
   },
   "file_extension": ".py",
   "mimetype": "text/x-python",
   "name": "python",
   "nbconvert_exporter": "python",
   "pygments_lexer": "ipython2",
   "version": "2.7.16"
  }
 },
 "nbformat": 4,
 "nbformat_minor": 2
}
