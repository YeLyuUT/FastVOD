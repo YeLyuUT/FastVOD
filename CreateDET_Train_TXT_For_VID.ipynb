{
 "cells": [
  {
   "cell_type": "code",
   "execution_count": 1,
   "metadata": {},
   "outputs": [],
   "source": [
    "from __future__ import absolute_import\n",
    "from __future__ import division\n",
    "from __future__ import print_function\n",
    "import _init_paths\n",
    "import os\n",
    "import sys\n",
    "import numpy as np\n",
    "import argparse\n",
    "import pprint\n",
    "import pdb\n",
    "import time\n",
    "from random import sample "
   ]
  },
  {
   "cell_type": "code",
   "execution_count": 2,
   "metadata": {},
   "outputs": [],
   "source": [
    "dataset = 'imagenet'\n",
    "imdb_name = 'imagenet_train'\n",
    "imdbval_name = 'imagenet_val'\n",
    "split = 'train'#train val val1 val2 test\n",
    "name = 'imagenet_{}'.format(split)\n",
    "devkit_path = 'data/imagenet/ILSVRC/devkit'\n",
    "data_path = 'data/imagenet/ILSVRC'"
   ]
  },
  {
   "cell_type": "code",
   "execution_count": 3,
   "metadata": {},
   "outputs": [],
   "source": [
    "import scipy.io as sio\n",
    "synsets_image = sio.loadmat(os.path.join(devkit_path,'data','meta_det.mat'))\n",
    "synsets_video = sio.loadmat(os.path.join(devkit_path,'data','meta_vid.mat'))\n",
    "syn_I = synsets_image['synsets']\n",
    "syn_V = synsets_video['synsets']\n",
    "vid_wnids = [syn_V[0,i][1] for i in range(30)]"
   ]
  },
  {
   "cell_type": "code",
   "execution_count": 4,
   "metadata": {},
   "outputs": [
    {
     "name": "stdout",
     "output_type": "stream",
     "text": [
      "data/imagenet/ILSVRC/ImageSets/DET/train_2.txt True\n",
      "data/imagenet/ILSVRC/ImageSets/DET/train_4.txt True\n",
      "data/imagenet/ILSVRC/ImageSets/DET/train_20.txt True\n",
      "data/imagenet/ILSVRC/ImageSets/DET/train_24.txt True\n",
      "data/imagenet/ILSVRC/ImageSets/DET/train_26.txt True\n",
      "data/imagenet/ILSVRC/ImageSets/DET/train_33.txt True\n",
      "data/imagenet/ILSVRC/ImageSets/DET/train_37.txt True\n",
      "data/imagenet/ILSVRC/ImageSets/DET/train_39.txt True\n",
      "data/imagenet/ILSVRC/ImageSets/DET/train_58.txt True\n",
      "data/imagenet/ILSVRC/ImageSets/DET/train_59.txt True\n",
      "data/imagenet/ILSVRC/ImageSets/DET/train_64.txt True\n",
      "data/imagenet/ILSVRC/ImageSets/DET/train_70.txt True\n",
      "data/imagenet/ILSVRC/ImageSets/DET/train_74.txt True\n",
      "data/imagenet/ILSVRC/ImageSets/DET/train_84.txt True\n",
      "data/imagenet/ILSVRC/ImageSets/DET/train_92.txt True\n",
      "data/imagenet/ILSVRC/ImageSets/DET/train_103.txt True\n",
      "data/imagenet/ILSVRC/ImageSets/DET/train_105.txt True\n",
      "data/imagenet/ILSVRC/ImageSets/DET/train_113.txt True\n",
      "data/imagenet/ILSVRC/ImageSets/DET/train_114.txt True\n",
      "data/imagenet/ILSVRC/ImageSets/DET/train_141.txt True\n",
      "data/imagenet/ILSVRC/ImageSets/DET/train_144.txt True\n",
      "data/imagenet/ILSVRC/ImageSets/DET/train_155.txt True\n",
      "data/imagenet/ILSVRC/ImageSets/DET/train_159.txt True\n",
      "data/imagenet/ILSVRC/ImageSets/DET/train_166.txt True\n",
      "data/imagenet/ILSVRC/ImageSets/DET/train_182.txt True\n",
      "data/imagenet/ILSVRC/ImageSets/DET/train_185.txt True\n",
      "data/imagenet/ILSVRC/ImageSets/DET/train_188.txt True\n",
      "data/imagenet/ILSVRC/ImageSets/DET/train_197.txt True\n",
      "data/imagenet/ILSVRC/ImageSets/DET/train_198.txt True\n",
      "data/imagenet/ILSVRC/ImageSets/DET/train_200.txt True\n",
      "176545 125 2055948 sum: 2232618\n",
      "vtmp_used_len_all: [ 1569.  1948.  2868.  1526. 33474.  2413.  8171.   948. 67505.  3260.\n",
      "  1579.  2509.   838.   786.  1555.   840.  5808.  7707.  1989.  2064.\n",
      "   973.  1389.  8591.   910.   882.  1216.  2828.  8299.  1266.   834.]\n",
      "vtmp_used_len_sel: [1569. 1948. 2500. 1526. 2500. 2413. 2500.  948. 2500. 2500. 1579. 2500.\n",
      "  838.  786. 1555.  840. 2500. 2500. 1989. 2064.  973. 1389. 2500.  910.\n",
      "  882. 1216. 2500. 2500. 1266.  834.]\n"
     ]
    }
   ],
   "source": [
    "vtmp_index = [] # label as 1.\n",
    "vtmp_index0 = [] # label as 0.\n",
    "vtmp_index_1 = [] # label as -1.\n",
    "vtmp_used = []\n",
    "vtmp_used_len_all = []\n",
    "vtmp_used_len_sel = []\n",
    "for i in range(1,201):\n",
    "    wnid = syn_I[0,i-1][1]\n",
    "    if wnid in vid_wnids:\n",
    "        image_set_file = os.path.join(data_path,'ImageSets','DET','train_'+str(i)+'.txt')\n",
    "        print(image_set_file,os.path.exists(image_set_file))\n",
    "        with open(image_set_file,'r') as f:\n",
    "            tmp_index = [x for x in f.readlines()]\n",
    "            vtmp = []\n",
    "            for line in tmp_index:\n",
    "                line = line.strip()\n",
    "                line = line.split(' ')\n",
    "                if line[1] == '1':\n",
    "                    vtmp_index.append(data_path+'/Data/DET/train/'+line[0])\n",
    "                    vtmp.append(line[0])\n",
    "                elif line[1] == '0':\n",
    "                    vtmp_index0.append(data_path+'/Data/DET/train/'+line[0])\n",
    "                elif line[1] == '-1':\n",
    "                    vtmp_index_1.append(data_path+'/Data/DET/train/'+line[0])\n",
    "                else:\n",
    "                    raise Exception('Error.')\n",
    "            vtmp_used_len_all.append(len(vtmp))\n",
    "            if len(vtmp)>2500:\n",
    "                vtmp = sample(vtmp,k=2500)\n",
    "            vtmp_used.extend(vtmp)\n",
    "            vtmp_used_len_sel.append(len(vtmp))\n",
    "            \n",
    "print(len(vtmp_index),len(vtmp_index0),len(vtmp_index_1),'sum:',len(vtmp_index)+len(vtmp_index0)+len(vtmp_index_1))\n",
    "vtmp_used_len_all = np.array(vtmp_used_len_all,dtype = np.float)\n",
    "vtmp_used_len_sel = np.array(vtmp_used_len_sel,dtype = np.float)\n",
    "print('vtmp_used_len_all:',vtmp_used_len_all)\n",
    "print('vtmp_used_len_sel:',vtmp_used_len_sel)"
   ]
  },
  {
   "cell_type": "code",
   "execution_count": 21,
   "metadata": {},
   "outputs": [
    {
     "name": "stdout",
     "output_type": "stream",
     "text": [
      "[1569. 1948. 2000. 1526. 2000. 2000. 2000.  948. 2000. 2000. 1579. 2000.\n",
      "  838.  786. 1555.  840. 2000. 2000. 1989. 2000.  973. 1389. 2000.  910.\n",
      "  882. 1216. 2000. 2000. 1266.  834.]\n",
      "47048.0\n"
     ]
    }
   ],
   "source": [
    "def cal_det_number(det_counter, max_det_per_category = 2000):\n",
    "    return np.minimum(det_counter, max_det_per_category)\n",
    "print(cal_det_number(vtmp_used_len_all))\n",
    "print(np.sum(cal_det_number(vtmp_used_len_all)))"
   ]
  },
  {
   "cell_type": "code",
   "execution_count": 38,
   "metadata": {},
   "outputs": [],
   "source": [
    "with open(os.path.join(data_path,'ImageSets','my_train_VID.txt'),'w') as f:\n",
    "    for item in vtmp_used:\n",
    "        f.write(item+' 1\\n')"
   ]
  },
  {
   "cell_type": "markdown",
   "metadata": {},
   "source": [
    "### compare MANet train Det and my train Det"
   ]
  },
  {
   "cell_type": "code",
   "execution_count": 39,
   "metadata": {},
   "outputs": [],
   "source": [
    "path_MAnet_det_txt = '../MANet_for_Video_Object_Detection/data/ILSVRC2015/ImageSets/DET_train_30classes.txt'\n",
    "path_my_det_txt = os.path.join(data_path,'ImageSets','my_train_VID.txt')\n",
    "assert os.path.exists(path_MAnet_det_txt)\n",
    "assert os.path.exists(path_my_det_txt)"
   ]
  },
  {
   "cell_type": "code",
   "execution_count": 40,
   "metadata": {},
   "outputs": [
    {
     "name": "stdout",
     "output_type": "stream",
     "text": [
      "53237\n",
      "52832\n"
     ]
    }
   ],
   "source": [
    "MA_items = []\n",
    "my_items =[]\n",
    "with open(path_MAnet_det_txt) as fMA:\n",
    "    MA_items = [x.split(' ')[0] for x in fMA.readlines()]\n",
    "\n",
    "with open(path_my_det_txt) as f:\n",
    "    my_items = ['train/'+x.split(' ')[0] for x in f.readlines()]\n",
    "\n",
    "MA_items = set(MA_items)\n",
    "my_items = set(my_items)\n",
    "print(len(MA_items))\n",
    "print(len(my_items))"
   ]
  },
  {
   "cell_type": "code",
   "execution_count": 41,
   "metadata": {},
   "outputs": [
    {
     "name": "stdout",
     "output_type": "stream",
     "text": [
      "15889\n",
      "15484\n"
     ]
    }
   ],
   "source": [
    "print(len(MA_items-my_items))\n",
    "print(len(my_items-MA_items))"
   ]
  },
  {
   "cell_type": "code",
   "execution_count": null,
   "metadata": {},
   "outputs": [],
   "source": []
  }
 ],
 "metadata": {
  "kernelspec": {
   "display_name": "Python 2",
   "language": "python",
   "name": "python2"
  },
  "language_info": {
   "codemirror_mode": {
    "name": "ipython",
    "version": 2
   },
   "file_extension": ".py",
   "mimetype": "text/x-python",
   "name": "python",
   "nbconvert_exporter": "python",
   "pygments_lexer": "ipython2",
   "version": "2.7.16"
  }
 },
 "nbformat": 4,
 "nbformat_minor": 2
}
